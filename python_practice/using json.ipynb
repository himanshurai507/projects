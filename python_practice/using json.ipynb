{
 "cells": [
  {
   "cell_type": "markdown",
   "metadata": {},
   "source": [
    "# Storing data"
   ]
  },
  {
   "cell_type": "markdown",
   "metadata": {},
   "source": [
    "many of your programs will ask user to input certain kinds of information.\n",
    "you might allow users to store preferences in a game or provide data for a visualizartion. whatever the focus of your program is, you will store the information users provide in data structures such as a list and dictionaries. When users close a program, you will almost want to store the information they entered. A simple way to do this involves storing your data using the JSON module."
   ]
  },
  {
   "cell_type": "markdown",
   "metadata": {},
   "source": [
    "The JSON module allows you to dump simple Python data structures into a file and load the data from that file the next program runs. You can use json to share data between different python programs. \n",
    "\n",
    "JSON is known as the JAVASCRIPT OBJECT NOTATION"
   ]
  },
  {
   "cell_type": "code",
   "execution_count": 1,
   "metadata": {},
   "outputs": [],
   "source": [
    "'''\n",
    "lets write a short program that stores a set of numbers back into memory. \n",
    "the first program will use json.dum() to store the set of numbers, and the second program will use json.load().\n",
    "the json.dump() takes two arguement: a piece of data to store and a file object it can use to store the data.\n",
    "'''\n",
    "\n",
    "import json\n",
    "numbers=[2,3,4,5,7,11,13]\n",
    "\n",
    "filename='numbers.json'\n",
    "with open(filename,'w') as f_obj:\n",
    "    json.dump(numbers, f_obj)"
   ]
  },
  {
   "cell_type": "code",
   "execution_count": 2,
   "metadata": {},
   "outputs": [
    {
     "name": "stdout",
     "output_type": "stream",
     "text": [
      "[2, 3, 4, 5, 7, 11, 13]\n"
     ]
    }
   ],
   "source": [
    "#now loading the file using json.load()\n",
    "\n",
    "filename='numbers.json'\n",
    "with open(filename) as f_obj:\n",
    "    numbers = json.load(f_obj)\n",
    "    \n",
    "print numbers"
   ]
  },
  {
   "cell_type": "code",
   "execution_count": null,
   "metadata": {},
   "outputs": [],
   "source": [
    "username= input(\"WHAT IS YOUR NAME?  \")\n",
    "\n",
    "filename='username.json'\n",
    "with open(filename,'w')as f_obj:\n",
    "    json.dump(username,f_obj)\n",
    "    print(\"we 'll remember you when you came back, \" + usermane + \" ! \")"
   ]
  },
  {
   "cell_type": "code",
   "execution_count": null,
   "metadata": {},
   "outputs": [],
   "source": []
  }
 ],
 "metadata": {
  "kernelspec": {
   "display_name": "Python 2",
   "language": "python",
   "name": "python2"
  },
  "language_info": {
   "codemirror_mode": {
    "name": "ipython",
    "version": 2
   },
   "file_extension": ".py",
   "mimetype": "text/x-python",
   "name": "python",
   "nbconvert_exporter": "python",
   "pygments_lexer": "ipython2",
   "version": "2.7.15"
  }
 },
 "nbformat": 4,
 "nbformat_minor": 2
}
